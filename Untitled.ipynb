{
 "cells": [
  {
   "cell_type": "code",
   "execution_count": 1,
   "id": "74dc38b6-11f4-477a-aa78-435161a35511",
   "metadata": {},
   "outputs": [],
   "source": [
    "import os, sys, logging\n",
    "from datetime import datetime\n",
    "from typing import Dict\n",
    "\n",
    "from pyspark.sql import SparkSession, DataFrame\n",
    "from pyspark.sql.functions import(\n",
    "    col, when, lag, avg, stddev, max as spark_max, min as spark_min,\n",
    "    count, lit, round as spark_round,\n",
    "    log as spark_log, abs as spark_abs, current_timestamp\n",
    ")\n",
    "from pyspark.sql.window import Window\n",
    "from pyspark.sql.types import (\n",
    "    StructType, StructField, StringType, DateType,\n",
    "    DecimalType, IntegerType\n",
    ")"
   ]
  },
  {
   "cell_type": "code",
   "execution_count": 2,
   "id": "17facbbb-a925-4383-9810-7a0b016919b3",
   "metadata": {},
   "outputs": [],
   "source": [
    "schema = StructType([\n",
    "    StructField(\"symbol\", StringType(), True),\n",
    "    StructField(\"date\", DateType(), True),\n",
    "    StructField(\"open\", DecimalType(10, 2), True),\n",
    "    StructField(\"high\", DecimalType(10, 2), True),\n",
    "    StructField(\"low\", DecimalType(10, 2), True),\n",
    "    StructField(\"close\", DecimalType(10, 2), True),\n",
    "    StructField(\"volume\", IntegerType(), True),\n",
    "])"
   ]
  },
  {
   "cell_type": "code",
   "execution_count": 21,
   "id": "2aec08f7-7c62-4e01-8637-09c7d464ea3c",
   "metadata": {},
   "outputs": [
    {
     "name": "stdout",
     "output_type": "stream",
     "text": [
      "+------+----------+------+------+------+------+--------+\n",
      "|symbol|      date|  open|  high|   low| close|  volume|\n",
      "+------+----------+------+------+------+------+--------+\n",
      "|  AAPL|2025-04-24|204.89|208.83|202.94|208.37|47310989|\n",
      "|  AAPL|2025-04-25|206.37|209.75|206.20|209.28|38222258|\n",
      "|  AAPL|2025-04-28|210.00|211.50|207.46|210.14|38743074|\n",
      "|  AAPL|2025-04-29|208.69|212.24|208.37|211.21|36827633|\n",
      "|  AAPL|2025-04-30|209.30|213.58|206.67|212.50|52286454|\n",
      "+------+----------+------+------+------+------+--------+\n",
      "only showing top 5 rows\n"
     ]
    },
    {
     "name": "stderr",
     "output_type": "stream",
     "text": [
      "25/10/03 12:06:17 WARN SparkSession: Using an existing Spark session; only runtime SQL configurations will take effect.\n"
     ]
    }
   ],
   "source": [
    "MASTER:   str = os.getenv('SPARK_MASTER', 'local[*]')\n",
    "\n",
    "# Spark SQL warehouse directory\n",
    "WAREHOUSE_DIR: str = os.path.join(os.getcwd(), 'spark-warehouse')\n",
    "\n",
    "# Memory and performance tuning\n",
    "DRIVER_MEMORY:   str = '2g'\n",
    "EXECUTOR_MEMORY: str = '2g'\n",
    "\n",
    "# Spark configuration dictionary\n",
    "SPARK_CONF: Dict[str,str] = {\n",
    "    'spark.sql.adaptive.enabled': 'true',\n",
    "    'spark.sql.adaptive.coalescePartitions.enabled': 'true',\n",
    "    'spark.sql.warehouse.dir': WAREHOUSE_DIR,\n",
    "    'spark.driver.memory': DRIVER_MEMORY,\n",
    "    'spark.executor.memory': EXECUTOR_MEMORY\n",
    "}\n",
    "\n",
    "builder = SparkSession.builder.appName('StockETL')\n",
    "# Apply configuration from settings\n",
    "for key, value in SPARK_CONF.items():\n",
    "    builder = builder.config(key, value)\n",
    "spark = builder.getOrCreate()\n",
    "\n",
    "path = 'data/raw/'\n",
    "\n",
    "df = spark.read.csv(path,\n",
    "                   header=True,\n",
    "                   schema = schema,\n",
    "                   timestampFormat = 'yyyy-MM-dd',\n",
    "                   comment='#')\n",
    "\n",
    "df.show(5)"
   ]
  },
  {
   "cell_type": "code",
   "execution_count": 5,
   "id": "afc4d501-015a-47be-92d2-efc930e8d035",
   "metadata": {},
   "outputs": [
    {
     "name": "stderr",
     "output_type": "stream",
     "text": [
      "WARNING: Using incubator modules: jdk.incubator.vector\n",
      "Using Spark's default log4j profile: org/apache/spark/log4j2-defaults.properties\n",
      "Setting default log level to \"WARN\".\n",
      "To adjust logging level use sc.setLogLevel(newLevel). For SparkR, use setLogLevel(newLevel).\n",
      "25/10/03 12:02:22 WARN NativeCodeLoader: Unable to load native-hadoop library for your platform... using builtin-java classes where applicable\n"
     ]
    }
   ],
   "source": []
  },
  {
   "cell_type": "code",
   "execution_count": 13,
   "id": "3765509c-7062-41a4-9ee3-230e7ba1ab7d",
   "metadata": {},
   "outputs": [],
   "source": []
  },
  {
   "cell_type": "code",
   "execution_count": 18,
   "id": "7de96344-3591-4263-9ed9-3ea88878cf2a",
   "metadata": {},
   "outputs": [],
   "source": []
  },
  {
   "cell_type": "code",
   "execution_count": 19,
   "id": "4c4d733f-fce1-42ca-9720-9687b39ca612",
   "metadata": {},
   "outputs": [
    {
     "name": "stdout",
     "output_type": "stream",
     "text": [
      "+--------------------+----+----+----+----+-----+------+\n",
      "|              symbol|date|open|high| low|close|volume|\n",
      "+--------------------+----+----+----+----+-----+------+\n",
      "|  # Symbols: ['AAPL'|NULL|NULL|NULL|NULL| NULL|  NULL|\n",
      "|      # Records: 800|NULL|NULL|NULL|NULL| NULL|  NULL|\n",
      "|# Date range: 202...|NULL|NULL|NULL|NULL| NULL|  NULL|\n",
      "|   # Columns: symbol|NULL|NULL|NULL|NULL| NULL|  NULL|\n",
      "|              symbol|NULL|NULL|NULL|NULL| NULL|  NULL|\n",
      "+--------------------+----+----+----+----+-----+------+\n",
      "only showing top 5 rows\n"
     ]
    },
    {
     "name": "stderr",
     "output_type": "stream",
     "text": [
      "25/10/03 12:04:25 WARN CSVHeaderChecker: Number of column in CSV header is not equal to number of fields in the schema:\n",
      " Header length: 1, schema size: 7\n",
      "CSV file: file:///Users/justinclancy/Documents/Projects/Stock_ETL_Pipeline2/data/raw/stock_data_20250917_115419.csv\n"
     ]
    }
   ],
   "source": []
  },
  {
   "cell_type": "code",
   "execution_count": null,
   "id": "c3c148c9-b936-43ea-85ca-f8b3ecc7b025",
   "metadata": {},
   "outputs": [],
   "source": []
  }
 ],
 "metadata": {
  "kernelspec": {
   "display_name": "base",
   "language": "python",
   "name": "base"
  },
  "language_info": {
   "codemirror_mode": {
    "name": "ipython",
    "version": 3
   },
   "file_extension": ".py",
   "mimetype": "text/x-python",
   "name": "python",
   "nbconvert_exporter": "python",
   "pygments_lexer": "ipython3",
   "version": "3.12.4"
  }
 },
 "nbformat": 4,
 "nbformat_minor": 5
}
